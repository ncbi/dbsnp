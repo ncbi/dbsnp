{
 "cells": [
  {
   "cell_type": "code",
   "execution_count": 1,
   "metadata": {
    "scrolled": true
   },
   "outputs": [
    {
     "name": "stdout",
     "output_type": "stream",
     "text": [
      "Requirement already satisfied: biopython in c:\\python38\\lib\\site-packages (1.79)\n",
      "Requirement already satisfied: numpy in c:\\python38\\lib\\site-packages (from biopython) (1.20.1)\n"
     ]
    },
    {
     "name": "stderr",
     "output_type": "stream",
     "text": [
      "WARNING: You are using pip version 21.0.1; however, version 21.2.4 is available.\n",
      "You should consider upgrading via the 'C:\\Python38\\python.exe -m pip install --upgrade pip' command.\n"
     ]
    }
   ],
   "source": [
    "# install biopython on Jupyter server.\n",
    "import sys\n",
    "!python -m pip install biopython"
   ]
  },
  {
   "cell_type": "code",
   "execution_count": 2,
   "metadata": {},
   "outputs": [],
   "source": [
    "import time\n",
    "from Bio import Entrez"
   ]
  },
  {
   "cell_type": "code",
   "execution_count": 3,
   "metadata": {},
   "outputs": [],
   "source": [
    "Entrez.email = \"dbsnp-user@nih.gov\" # provide your user email \n",
    "# RECOMMENDED: apply for API key from NCBI (https://ncbiinsights.ncbi.nlm.nih.gov/2017/11/02/new-api-keys-for-the-e-utilities/). \n",
    "# 10 queries per second with a valid API key, otherwise 3 queries per seconds are allowed for 'None'\n",
    "Entrez.api_key = None\n",
    "\n",
    "# dbSNP supported query terms (https://www.ncbi.nlm.nih.gov/snp/docs/entrez_help/) can be build and test online using web query builder (https://www.ncbi.nlm.nih.gov/snp/advanced) \n",
    "# esearch handle\n",
    "eShandle = Entrez.esearch(db=\"snp\",  # search dbSNP\n",
    "                          #complex query for missense and pathogenic variants in LPL gene with global MAF betweeen 0 and 0.01.\n",
    "                          term='LPL[All Fields] AND pathogenic[Clinical_Significance] AND missense variant[Function_Class] AND (00000.0000[GLOBAL_MAF] : 00000.0100[GLOBAL_MAF])', \n",
    "                          usehistory=\"y\", #cache result on server for download in batches\n",
    "                          retmax=20 # return 20 RSID max\n",
    "                         )\n"
   ]
  },
  {
   "cell_type": "code",
   "execution_count": 4,
   "metadata": {},
   "outputs": [],
   "source": [
    "\n",
    "# get esearch result\n",
    "eSresult = Entrez.read(eShandle)"
   ]
  },
  {
   "cell_type": "code",
   "execution_count": 5,
   "metadata": {},
   "outputs": [
    {
     "name": "stdout",
     "output_type": "stream",
     "text": [
      "Count : 5\n",
      "RetMax : 5\n",
      "RetStart : 0\n",
      "QueryKey : 1\n",
      "WebEnv : MCID_61327ef47c171e289112e960\n",
      "IdList : ['386571803', '118204057', '52818902', '17850737', '268']\n",
      "TranslationSet : [{'From': 'LPL[All Fields]', 'To': 'LPL[All Fields]'}]\n",
      "TranslationStack : [{'Term': 'LPL[All Fields]', 'Field': 'All Fields', 'Count': '12455', 'Explode': 'N'}, {'Term': 'pathogenic[Clinical_Significance]', 'Field': 'Clinical_Significance', 'Count': '98208', 'Explode': 'N'}, 'AND', {'Term': 'missense variant[Function_Class]', 'Field': 'Function_Class', 'Count': '9628782', 'Explode': 'N'}, 'AND', {'Term': '00000.0000[GLOBAL_MAF]', 'Field': 'GLOBAL_MAF', 'Count': '0', 'Explode': 'N'}, {'Term': '00000.0100[GLOBAL_MAF]', 'Field': 'GLOBAL_MAF', 'Count': '0', 'Explode': 'N'}, 'RANGE', 'GROUP', 'AND']\n",
      "QueryTranslation : LPL[All Fields] AND pathogenic[Clinical_Significance] AND missense variant[Function_Class] AND (00000.0000[GLOBAL_MAF] : 00000.0100[GLOBAL_MAF])\n"
     ]
    }
   ],
   "source": [
    "# review results \n",
    "for k in eSresult:\n",
    "    print (k, \":\", eSresult[k])\n",
    "    \n",
    "#Output: Web environment (&WebEnv) and query key (&query_key) parameters specifying the location on the Entrez history server of the list of UIDs matching the Entrez query\n",
    "#https://www.ncbi.nlm.nih.gov/books/NBK25500/#chapter1.Storing_Search_Results\n",
    "    "
   ]
  },
  {
   "cell_type": "code",
   "execution_count": 6,
   "metadata": {},
   "outputs": [],
   "source": [
    "# get result RSIDs list 'Idlist'\n",
    "# total rs count \n",
    "rslist = (eSresult['IdList'])"
   ]
  },
  {
   "cell_type": "code",
   "execution_count": 7,
   "metadata": {},
   "outputs": [
    {
     "name": "stdout",
     "output_type": "stream",
     "text": [
      "386571803\n",
      "118204057\n",
      "52818902\n",
      "17850737\n",
      "268\n"
     ]
    }
   ],
   "source": [
    "# retmax = 20 so print only 20 RSIDs\n",
    "# additional results can be retrieved by batches\n",
    "# download in batches example http://biopython.org/DIST/docs/tutorial/Tutorial.html#htoc139 or see below.\n",
    "for rs in rslist:\n",
    "    print(rs)"
   ]
  },
  {
   "cell_type": "code",
   "execution_count": 8,
   "metadata": {},
   "outputs": [],
   "source": [
    "# get the WebEnv session cookie, and the QueryKey:\n",
    "\n",
    "webenv = eSresult[\"WebEnv\"]\n",
    "query_key = eSresult[\"QueryKey\"]\n",
    "total_count = int(eSresult[\"Count\"])\n",
    "query_key = eSresult[\"QueryKey\"]\n",
    "retmax = 2 # return 2 rs per batch example"
   ]
  },
  {
   "cell_type": "code",
   "execution_count": 9,
   "metadata": {},
   "outputs": [
    {
     "name": "stdout",
     "output_type": "stream",
     "text": [
      "Going to download record 1 to 2\n",
      "b'<?xml version=\"1.0\" ?>\\n<ExchangeSet xmlns:xsi=\"https://www.w3.org/2001/XMLSchema-instance\" xmlns=\"https://www.ncbi.nlm.nih.gov/SNP/docsum\" xsi:schemaLocation=\"https://www.ncbi.nlm.nih.gov/SNP/docsum ftp://ftp.ncbi.nlm.nih.gov/snp/specs/docsum_eutils.xsd\" ><DocumentSummary uid=\"386571803\"><SNP_ID>268</SNP_ID><ALLELE_ORIGIN/><GLOBAL_MAFS><MAF><STUDY>1000Genomes</STUDY><FREQ>G=0.005192/26</FREQ></MAF><MAF><STUDY>ALSPAC</STUDY><FREQ>G=0.018682/72</FREQ></MAF><MAF><STUDY>Estonian</STUDY><FREQ>G=0.023884/107</FREQ></MAF><MAF><STUDY>ExAC</STUDY><FREQ>G=0.013363/1622</FREQ></MAF><MAF><STUDY>FINRISK</STUDY><FREQ>G=0.013158/4</FREQ></MAF><MAF><STUDY>GENOME_DK</STUDY><FREQ>G=0.05/2</FREQ></MAF><MAF><STUDY>GnomAD</STUDY><FREQ>G=0.013274/1862</FREQ></MAF><MAF><STUDY>GnomAD_exomes</STUDY><FREQ>G=0.01278/3212</FREQ></MAF><MAF><STUDY>GoNL</STUDY><FREQ>G=0.03006/30</FREQ></MAF><MAF><STUDY>HapMap</STUDY><FREQ>G=0.00565/4</FREQ></MAF><MAF><STUDY>MGP</STUDY><FREQ>G=0.013109/7</FREQ></MAF><MAF><STUDY>NorthernSweden</STUDY><FREQ>G=0.028333/17</FREQ></MAF><MAF><STUDY>PAGE_STUDY</STUDY><FREQ>G=0.004968/391</FREQ></MAF><MAF><STUDY>PRJEB36033</STUDY><FREQ>G=0.028571/2</FREQ></MAF><MAF><STUDY>SGDP_PRJ</STUDY><FREQ>A=0.5/1</FREQ></MAF><MAF><STUDY>TOMMO</STUDY><FREQ>G=0.00006/1</FREQ></MAF><MAF><STUDY>TOPMED</STUDY><FREQ>G=0.011043/2923</FREQ></MAF><MAF><STUDY>TWINSUK</STUDY><FREQ>G=0.019957/74</FREQ></MAF><MAF><STUDY>ALFA</STUDY><FREQ>G=0.016273/3560</FREQ></MAF></GLOBAL_MAFS><GLOBAL_POPULATION/><GLOBAL_SAMPLESIZE>0</GLOBAL_SAMPLESIZE><SUSPECTED/><CLINICAL_SIGNIFICANCE>pathogenic,uncertain-significance,risk-factor</CLINICAL_SIGNIFICANCE><GENES><GENE_E><NAME>LPL</NAME><GENE_ID>4023</GENE_ID></GENE_E></GENES><ACC>NC_000008.11</ACC><CHR>8</CHR><HANDLE>1000GENOMES,EVA_UK10K_TWINSUK,GNOMAD,AFFY,EVA_SVP,ACPOP,PERLEGEN,EVA_GENOME_DK,NHLBI-ESP,EXOME_CHIP,EVA,ENSEMBL,DEBNICK,EVA-GONL,TOPMED,OMICIA,TOMMO_GENOMICS,CLINSEQ_SNP,BCMHGSC_JDW,APPLERA_GI,SWEGEN,ILLUMINA,HUMAN_LONGEVITY,PAGE_CC,JJLAB,EGCUT_WGS,SGDP_PRJ,BCM-HGSC-SUB,EVA_DECODE,EVA_MGP,EVA_EXAC,PAGE_STUDY,MGC_GENOME_DIFF,OMIM-CURATED-RECORDS,EVA_UK10K_ALSPAC,CSHL,EVA_FINRISK</HANDLE><SPDI>NC_000008.11:19956017:A:G</SPDI><FXN_CLASS>missense_variant,coding_sequence_variant</FXN_CLASS><VALIDATED>by-frequency,by-alfa,by-cluster</VALIDATED><DOCSUM>HGVS=NC_000008.11:g.19956018A&gt;G,NC_000008.10:g.19813529A&gt;G,NG_008855.2:g.59302A&gt;G,NM_000237.3:c.953A&gt;G,NM_000237.2:c.953A&gt;G,NP_000228.1:p.Asn318Ser|SEQ=[A/G]|LEN=1|GENE=LPL:4023</DOCSUM><TAX_ID>9606</TAX_ID><ORIG_BUILD>36</ORIG_BUILD><UPD_BUILD>155</UPD_BUILD><CREATEDATE>2000/09/19 17:02</CREATEDATE><UPDATEDATE>2021/04/27 04:06</UPDATEDATE><SS>268,23712753,28505039,48420135,69043148,74819581,74905524,93851529,143320833,173427532,181341869,206439351,217321419,217397623,217418282,244238715,244291490,252841599,334734988,342253784,490960919,491410891,491921986,537115398,780867933,783552867,985272617,1328915147,1582593752,1584057346,1594862271,1620133702,1663127735,1689111573,1711194704,1713021090,1752723237,1917826322,1946231540,1946231541,1959093877,1959093878,2024980549,2301287943,2470945845,2634720445,2711132106,2737022388,2748007727,2864092854,2985433050,2986076176,3002804432,3022826073,3022826074,3348082024,3555882704,3625947308,3630013637,3630013638,3635162175,3638748368,3640869465,3643680166,3644964714,3644964715,3653367027,3653367028,3654194864,3670484468,3721555439,3726520351,3735467033,3744302894,3744577751,3745461958,3767717753,3771428683,3772954551,3824351410,3825737076,3869436715,3985347111,3986415474,4017379939,4778093028,5187654418</SS><ALLELE>R</ALLELE><SNP_CLASS>snv</SNP_CLASS><CHRPOS>8:19956018</CHRPOS><CHRPOS_PREV_ASSM>8:19813529</CHRPOS_PREV_ASSM><TEXT>MergedRs=268</TEXT><SNP_ID_SORT>0000000268</SNP_ID_SORT><CLINICAL_SORT>1</CLINICAL_SORT><CITED_SORT/><CHRPOS_SORT>0019956018</CHRPOS_SORT><MERGED_SORT>1</MERGED_SORT></DocumentSummary>\\n<DocumentSummary uid=\"118204057\"><SNP_ID>118204057</SNP_ID><ALLELE_ORIGIN/><GLOBAL_MAFS><MAF><STUDY>1000Genomes</STUDY><FREQ>A=0.0002/1</FREQ></MAF><MAF><STUDY>ALSPAC</STUDY><FREQ>A=0.000519/2</FREQ></MAF><MAF><STUDY>ExAC</STUDY><FREQ>A=0.000132/16</FREQ></MAF><MAF><STUDY>GnomAD</STUDY><FREQ>A=0.000235/33</FREQ></MAF><MAF><STUDY>GnomAD_exomes</STUDY><FREQ>A=0.000191/48</FREQ></MAF><MAF><STUDY>PAGE_STUDY</STUDY><FREQ>A=0.000165/13</FREQ></MAF><MAF><STUDY>TOMMO</STUDY><FREQ>A=0.000119/2</FREQ></MAF><MAF><STUDY>TOPMED</STUDY><FREQ>A=0.000355/94</FREQ></MAF><MAF><STUDY>TWINSUK</STUDY><FREQ>A=0.00027/1</FREQ></MAF><MAF><STUDY>ALFA</STUDY><FREQ>A=0.000271/54</FREQ></MAF></GLOBAL_MAFS><GLOBAL_POPULATION/><GLOBAL_SAMPLESIZE>0</GLOBAL_SAMPLESIZE><SUSPECTED/><CLINICAL_SIGNIFICANCE>uncertain-significance,pathogenic</CLINICAL_SIGNIFICANCE><GENES><GENE_E><NAME>LPL</NAME><GENE_ID>4023</GENE_ID></GENE_E></GENES><ACC>NC_000008.11</ACC><CHR>8</CHR><HANDLE>EVA,EVA_UK10K_ALSPAC,EVA_UK10K_TWINSUK,HUMAN_LONGEVITY,AFFY,ILLUMINA,TOMMO_GENOMICS,EVA_EXAC,TOPMED,PAGE_CC,EXOME_CHIP,1000GENOMES,OMIM-CURATED-RECORDS,SWEGEN,NHLBI-ESP,GNOMAD</HANDLE><SPDI>NC_000008.11:19954221:G:A,NC_000008.11:19954221:G:C</SPDI><FXN_CLASS>coding_sequence_variant,missense_variant</FXN_CLASS><VALIDATED>by-frequency,by-alfa,by-cluster</VALIDATED><DOCSUM>HGVS=NC_000008.11:g.19954222G&gt;A,NC_000008.11:g.19954222G&gt;C,NC_000008.10:g.19811733G&gt;A,NC_000008.10:g.19811733G&gt;C,NG_008855.2:g.57506G&gt;A,NG_008855.2:g.57506G&gt;C,NM_000237.3:c.644G&gt;A,NM_000237.3:c.644G&gt;C,NM_000237.2:c.644G&gt;A,NM_000237.2:c.644G&gt;C,NP_000228.1:p.Gly215Glu,NP_000228.1:p.Gly215Ala|SEQ=[G/A/C]|LEN=1|GENE=LPL:4023</DOCSUM><TAX_ID>9606</TAX_ID><ORIG_BUILD>132</ORIG_BUILD><UPD_BUILD>155</UPD_BUILD><CREATEDATE>2010/08/10 18:39</CREATEDATE><UPDATEDATE>2021/04/27 04:06</UPDATEDATE><SS>252841577,342253778,491410889,780867932,783552866,1328915074,1620133671,1663127704,1689111495,1752723234,1917826320,1946231533,1959093860,2301287816,2470945734,2737022275,2748007694,2864092706,2985433044,2986076165,3002804416,3022826051,3555882370,3630013630,3635162172,3640869462,3644964707,3653367005,3654194858,3726520329,3744577749,3745461955,3771428668,3772954548,3824351387,3986415467,4778092540,5187654372</SS><ALLELE>V</ALLELE><SNP_CLASS>snv</SNP_CLASS><CHRPOS>8:19954222</CHRPOS><CHRPOS_PREV_ASSM>8:19811733</CHRPOS_PREV_ASSM><TEXT/><SNP_ID_SORT>0118204057</SNP_ID_SORT><CLINICAL_SORT>1</CLINICAL_SORT><CITED_SORT/><CHRPOS_SORT>0019954222</CHRPOS_SORT><MERGED_SORT>0</MERGED_SORT></DocumentSummary>\\n</ExchangeSet>'\n",
      "Going to download record 3 to 4\n",
      "b'<?xml version=\"1.0\" ?>\\n<ExchangeSet xmlns:xsi=\"https://www.w3.org/2001/XMLSchema-instance\" xmlns=\"https://www.ncbi.nlm.nih.gov/SNP/docsum\" xsi:schemaLocation=\"https://www.ncbi.nlm.nih.gov/SNP/docsum ftp://ftp.ncbi.nlm.nih.gov/snp/specs/docsum_eutils.xsd\" ><DocumentSummary uid=\"52818902\"><SNP_ID>268</SNP_ID><ALLELE_ORIGIN/><GLOBAL_MAFS><MAF><STUDY>1000Genomes</STUDY><FREQ>G=0.005192/26</FREQ></MAF><MAF><STUDY>ALSPAC</STUDY><FREQ>G=0.018682/72</FREQ></MAF><MAF><STUDY>Estonian</STUDY><FREQ>G=0.023884/107</FREQ></MAF><MAF><STUDY>ExAC</STUDY><FREQ>G=0.013363/1622</FREQ></MAF><MAF><STUDY>FINRISK</STUDY><FREQ>G=0.013158/4</FREQ></MAF><MAF><STUDY>GENOME_DK</STUDY><FREQ>G=0.05/2</FREQ></MAF><MAF><STUDY>GnomAD</STUDY><FREQ>G=0.013274/1862</FREQ></MAF><MAF><STUDY>GnomAD_exomes</STUDY><FREQ>G=0.01278/3212</FREQ></MAF><MAF><STUDY>GoNL</STUDY><FREQ>G=0.03006/30</FREQ></MAF><MAF><STUDY>HapMap</STUDY><FREQ>G=0.00565/4</FREQ></MAF><MAF><STUDY>MGP</STUDY><FREQ>G=0.013109/7</FREQ></MAF><MAF><STUDY>NorthernSweden</STUDY><FREQ>G=0.028333/17</FREQ></MAF><MAF><STUDY>PAGE_STUDY</STUDY><FREQ>G=0.004968/391</FREQ></MAF><MAF><STUDY>PRJEB36033</STUDY><FREQ>G=0.028571/2</FREQ></MAF><MAF><STUDY>SGDP_PRJ</STUDY><FREQ>A=0.5/1</FREQ></MAF><MAF><STUDY>TOMMO</STUDY><FREQ>G=0.00006/1</FREQ></MAF><MAF><STUDY>TOPMED</STUDY><FREQ>G=0.011043/2923</FREQ></MAF><MAF><STUDY>TWINSUK</STUDY><FREQ>G=0.019957/74</FREQ></MAF><MAF><STUDY>ALFA</STUDY><FREQ>G=0.016273/3560</FREQ></MAF></GLOBAL_MAFS><GLOBAL_POPULATION/><GLOBAL_SAMPLESIZE>0</GLOBAL_SAMPLESIZE><SUSPECTED/><CLINICAL_SIGNIFICANCE>pathogenic,uncertain-significance,risk-factor</CLINICAL_SIGNIFICANCE><GENES><GENE_E><NAME>LPL</NAME><GENE_ID>4023</GENE_ID></GENE_E></GENES><ACC>NC_000008.11</ACC><CHR>8</CHR><HANDLE>1000GENOMES,EVA_UK10K_TWINSUK,GNOMAD,AFFY,EVA_SVP,ACPOP,PERLEGEN,EVA_GENOME_DK,NHLBI-ESP,EXOME_CHIP,EVA,ENSEMBL,DEBNICK,EVA-GONL,TOPMED,OMICIA,TOMMO_GENOMICS,CLINSEQ_SNP,BCMHGSC_JDW,APPLERA_GI,SWEGEN,ILLUMINA,HUMAN_LONGEVITY,PAGE_CC,JJLAB,EGCUT_WGS,SGDP_PRJ,BCM-HGSC-SUB,EVA_DECODE,EVA_MGP,EVA_EXAC,PAGE_STUDY,MGC_GENOME_DIFF,OMIM-CURATED-RECORDS,EVA_UK10K_ALSPAC,CSHL,EVA_FINRISK</HANDLE><SPDI>NC_000008.11:19956017:A:G</SPDI><FXN_CLASS>missense_variant,coding_sequence_variant</FXN_CLASS><VALIDATED>by-frequency,by-alfa,by-cluster</VALIDATED><DOCSUM>HGVS=NC_000008.11:g.19956018A&gt;G,NC_000008.10:g.19813529A&gt;G,NG_008855.2:g.59302A&gt;G,NM_000237.3:c.953A&gt;G,NM_000237.2:c.953A&gt;G,NP_000228.1:p.Asn318Ser|SEQ=[A/G]|LEN=1|GENE=LPL:4023</DOCSUM><TAX_ID>9606</TAX_ID><ORIG_BUILD>36</ORIG_BUILD><UPD_BUILD>155</UPD_BUILD><CREATEDATE>2000/09/19 17:02</CREATEDATE><UPDATEDATE>2021/04/27 04:06</UPDATEDATE><SS>268,23712753,28505039,48420135,69043148,74819581,74905524,93851529,143320833,173427532,181341869,206439351,217321419,217397623,217418282,244238715,244291490,252841599,334734988,342253784,490960919,491410891,491921986,537115398,780867933,783552867,985272617,1328915147,1582593752,1584057346,1594862271,1620133702,1663127735,1689111573,1711194704,1713021090,1752723237,1917826322,1946231540,1946231541,1959093877,1959093878,2024980549,2301287943,2470945845,2634720445,2711132106,2737022388,2748007727,2864092854,2985433050,2986076176,3002804432,3022826073,3022826074,3348082024,3555882704,3625947308,3630013637,3630013638,3635162175,3638748368,3640869465,3643680166,3644964714,3644964715,3653367027,3653367028,3654194864,3670484468,3721555439,3726520351,3735467033,3744302894,3744577751,3745461958,3767717753,3771428683,3772954551,3824351410,3825737076,3869436715,3985347111,3986415474,4017379939,4778093028,5187654418</SS><ALLELE>R</ALLELE><SNP_CLASS>snv</SNP_CLASS><CHRPOS>8:19956018</CHRPOS><CHRPOS_PREV_ASSM>8:19813529</CHRPOS_PREV_ASSM><TEXT>MergedRs=268</TEXT><SNP_ID_SORT>0000000268</SNP_ID_SORT><CLINICAL_SORT>1</CLINICAL_SORT><CITED_SORT/><CHRPOS_SORT>0019956018</CHRPOS_SORT><MERGED_SORT>1</MERGED_SORT></DocumentSummary>\\n<DocumentSummary uid=\"17850737\"><SNP_ID>268</SNP_ID><ALLELE_ORIGIN/><GLOBAL_MAFS><MAF><STUDY>1000Genomes</STUDY><FREQ>G=0.005192/26</FREQ></MAF><MAF><STUDY>ALSPAC</STUDY><FREQ>G=0.018682/72</FREQ></MAF><MAF><STUDY>Estonian</STUDY><FREQ>G=0.023884/107</FREQ></MAF><MAF><STUDY>ExAC</STUDY><FREQ>G=0.013363/1622</FREQ></MAF><MAF><STUDY>FINRISK</STUDY><FREQ>G=0.013158/4</FREQ></MAF><MAF><STUDY>GENOME_DK</STUDY><FREQ>G=0.05/2</FREQ></MAF><MAF><STUDY>GnomAD</STUDY><FREQ>G=0.013274/1862</FREQ></MAF><MAF><STUDY>GnomAD_exomes</STUDY><FREQ>G=0.01278/3212</FREQ></MAF><MAF><STUDY>GoNL</STUDY><FREQ>G=0.03006/30</FREQ></MAF><MAF><STUDY>HapMap</STUDY><FREQ>G=0.00565/4</FREQ></MAF><MAF><STUDY>MGP</STUDY><FREQ>G=0.013109/7</FREQ></MAF><MAF><STUDY>NorthernSweden</STUDY><FREQ>G=0.028333/17</FREQ></MAF><MAF><STUDY>PAGE_STUDY</STUDY><FREQ>G=0.004968/391</FREQ></MAF><MAF><STUDY>PRJEB36033</STUDY><FREQ>G=0.028571/2</FREQ></MAF><MAF><STUDY>SGDP_PRJ</STUDY><FREQ>A=0.5/1</FREQ></MAF><MAF><STUDY>TOMMO</STUDY><FREQ>G=0.00006/1</FREQ></MAF><MAF><STUDY>TOPMED</STUDY><FREQ>G=0.011043/2923</FREQ></MAF><MAF><STUDY>TWINSUK</STUDY><FREQ>G=0.019957/74</FREQ></MAF><MAF><STUDY>ALFA</STUDY><FREQ>G=0.016273/3560</FREQ></MAF></GLOBAL_MAFS><GLOBAL_POPULATION/><GLOBAL_SAMPLESIZE>0</GLOBAL_SAMPLESIZE><SUSPECTED/><CLINICAL_SIGNIFICANCE>pathogenic,uncertain-significance,risk-factor</CLINICAL_SIGNIFICANCE><GENES><GENE_E><NAME>LPL</NAME><GENE_ID>4023</GENE_ID></GENE_E></GENES><ACC>NC_000008.11</ACC><CHR>8</CHR><HANDLE>1000GENOMES,EVA_UK10K_TWINSUK,GNOMAD,AFFY,EVA_SVP,ACPOP,PERLEGEN,EVA_GENOME_DK,NHLBI-ESP,EXOME_CHIP,EVA,ENSEMBL,DEBNICK,EVA-GONL,TOPMED,OMICIA,TOMMO_GENOMICS,CLINSEQ_SNP,BCMHGSC_JDW,APPLERA_GI,SWEGEN,ILLUMINA,HUMAN_LONGEVITY,PAGE_CC,JJLAB,EGCUT_WGS,SGDP_PRJ,BCM-HGSC-SUB,EVA_DECODE,EVA_MGP,EVA_EXAC,PAGE_STUDY,MGC_GENOME_DIFF,OMIM-CURATED-RECORDS,EVA_UK10K_ALSPAC,CSHL,EVA_FINRISK</HANDLE><SPDI>NC_000008.11:19956017:A:G</SPDI><FXN_CLASS>missense_variant,coding_sequence_variant</FXN_CLASS><VALIDATED>by-frequency,by-alfa,by-cluster</VALIDATED><DOCSUM>HGVS=NC_000008.11:g.19956018A&gt;G,NC_000008.10:g.19813529A&gt;G,NG_008855.2:g.59302A&gt;G,NM_000237.3:c.953A&gt;G,NM_000237.2:c.953A&gt;G,NP_000228.1:p.Asn318Ser|SEQ=[A/G]|LEN=1|GENE=LPL:4023</DOCSUM><TAX_ID>9606</TAX_ID><ORIG_BUILD>36</ORIG_BUILD><UPD_BUILD>155</UPD_BUILD><CREATEDATE>2000/09/19 17:02</CREATEDATE><UPDATEDATE>2021/04/27 04:06</UPDATEDATE><SS>268,23712753,28505039,48420135,69043148,74819581,74905524,93851529,143320833,173427532,181341869,206439351,217321419,217397623,217418282,244238715,244291490,252841599,334734988,342253784,490960919,491410891,491921986,537115398,780867933,783552867,985272617,1328915147,1582593752,1584057346,1594862271,1620133702,1663127735,1689111573,1711194704,1713021090,1752723237,1917826322,1946231540,1946231541,1959093877,1959093878,2024980549,2301287943,2470945845,2634720445,2711132106,2737022388,2748007727,2864092854,2985433050,2986076176,3002804432,3022826073,3022826074,3348082024,3555882704,3625947308,3630013637,3630013638,3635162175,3638748368,3640869465,3643680166,3644964714,3644964715,3653367027,3653367028,3654194864,3670484468,3721555439,3726520351,3735467033,3744302894,3744577751,3745461958,3767717753,3771428683,3772954551,3824351410,3825737076,3869436715,3985347111,3986415474,4017379939,4778093028,5187654418</SS><ALLELE>R</ALLELE><SNP_CLASS>snv</SNP_CLASS><CHRPOS>8:19956018</CHRPOS><CHRPOS_PREV_ASSM>8:19813529</CHRPOS_PREV_ASSM><TEXT>MergedRs=268</TEXT><SNP_ID_SORT>0000000268</SNP_ID_SORT><CLINICAL_SORT>1</CLINICAL_SORT><CITED_SORT/><CHRPOS_SORT>0019956018</CHRPOS_SORT><MERGED_SORT>1</MERGED_SORT></DocumentSummary>\\n</ExchangeSet>'\n",
      "Going to download record 5 to 5\n"
     ]
    },
    {
     "name": "stdout",
     "output_type": "stream",
     "text": [
      "b'<?xml version=\"1.0\" ?>\\n<ExchangeSet xmlns:xsi=\"https://www.w3.org/2001/XMLSchema-instance\" xmlns=\"https://www.ncbi.nlm.nih.gov/SNP/docsum\" xsi:schemaLocation=\"https://www.ncbi.nlm.nih.gov/SNP/docsum ftp://ftp.ncbi.nlm.nih.gov/snp/specs/docsum_eutils.xsd\" ><DocumentSummary uid=\"268\"><SNP_ID>268</SNP_ID><ALLELE_ORIGIN/><GLOBAL_MAFS><MAF><STUDY>1000Genomes</STUDY><FREQ>G=0.005192/26</FREQ></MAF><MAF><STUDY>ALSPAC</STUDY><FREQ>G=0.018682/72</FREQ></MAF><MAF><STUDY>Estonian</STUDY><FREQ>G=0.023884/107</FREQ></MAF><MAF><STUDY>ExAC</STUDY><FREQ>G=0.013363/1622</FREQ></MAF><MAF><STUDY>FINRISK</STUDY><FREQ>G=0.013158/4</FREQ></MAF><MAF><STUDY>GENOME_DK</STUDY><FREQ>G=0.05/2</FREQ></MAF><MAF><STUDY>GnomAD</STUDY><FREQ>G=0.013274/1862</FREQ></MAF><MAF><STUDY>GnomAD_exomes</STUDY><FREQ>G=0.01278/3212</FREQ></MAF><MAF><STUDY>GoNL</STUDY><FREQ>G=0.03006/30</FREQ></MAF><MAF><STUDY>HapMap</STUDY><FREQ>G=0.00565/4</FREQ></MAF><MAF><STUDY>MGP</STUDY><FREQ>G=0.013109/7</FREQ></MAF><MAF><STUDY>NorthernSweden</STUDY><FREQ>G=0.028333/17</FREQ></MAF><MAF><STUDY>PAGE_STUDY</STUDY><FREQ>G=0.004968/391</FREQ></MAF><MAF><STUDY>PRJEB36033</STUDY><FREQ>G=0.028571/2</FREQ></MAF><MAF><STUDY>SGDP_PRJ</STUDY><FREQ>A=0.5/1</FREQ></MAF><MAF><STUDY>TOMMO</STUDY><FREQ>G=0.00006/1</FREQ></MAF><MAF><STUDY>TOPMED</STUDY><FREQ>G=0.011043/2923</FREQ></MAF><MAF><STUDY>TWINSUK</STUDY><FREQ>G=0.019957/74</FREQ></MAF><MAF><STUDY>ALFA</STUDY><FREQ>G=0.016273/3560</FREQ></MAF></GLOBAL_MAFS><GLOBAL_POPULATION/><GLOBAL_SAMPLESIZE>0</GLOBAL_SAMPLESIZE><SUSPECTED/><CLINICAL_SIGNIFICANCE>pathogenic,uncertain-significance,risk-factor</CLINICAL_SIGNIFICANCE><GENES><GENE_E><NAME>LPL</NAME><GENE_ID>4023</GENE_ID></GENE_E></GENES><ACC>NC_000008.11</ACC><CHR>8</CHR><HANDLE>1000GENOMES,EVA_UK10K_TWINSUK,GNOMAD,AFFY,EVA_SVP,ACPOP,PERLEGEN,EVA_GENOME_DK,NHLBI-ESP,EXOME_CHIP,EVA,ENSEMBL,DEBNICK,EVA-GONL,TOPMED,OMICIA,TOMMO_GENOMICS,CLINSEQ_SNP,BCMHGSC_JDW,APPLERA_GI,SWEGEN,ILLUMINA,HUMAN_LONGEVITY,PAGE_CC,JJLAB,EGCUT_WGS,SGDP_PRJ,BCM-HGSC-SUB,EVA_DECODE,EVA_MGP,EVA_EXAC,PAGE_STUDY,MGC_GENOME_DIFF,OMIM-CURATED-RECORDS,EVA_UK10K_ALSPAC,CSHL,EVA_FINRISK</HANDLE><SPDI>NC_000008.11:19956017:A:G</SPDI><FXN_CLASS>missense_variant,coding_sequence_variant</FXN_CLASS><VALIDATED>by-frequency,by-alfa,by-cluster</VALIDATED><DOCSUM>HGVS=NC_000008.11:g.19956018A&gt;G,NC_000008.10:g.19813529A&gt;G,NG_008855.2:g.59302A&gt;G,NM_000237.3:c.953A&gt;G,NM_000237.2:c.953A&gt;G,NP_000228.1:p.Asn318Ser|SEQ=[A/G]|LEN=1|GENE=LPL:4023</DOCSUM><TAX_ID>9606</TAX_ID><ORIG_BUILD>36</ORIG_BUILD><UPD_BUILD>155</UPD_BUILD><CREATEDATE>2000/09/19 17:02</CREATEDATE><UPDATEDATE>2021/04/27 04:06</UPDATEDATE><SS>268,23712753,28505039,48420135,69043148,74819581,74905524,93851529,143320833,173427532,181341869,206439351,217321419,217397623,217418282,244238715,244291490,252841599,334734988,342253784,490960919,491410891,491921986,537115398,780867933,783552867,985272617,1328915147,1582593752,1584057346,1594862271,1620133702,1663127735,1689111573,1711194704,1713021090,1752723237,1917826322,1946231540,1946231541,1959093877,1959093878,2024980549,2301287943,2470945845,2634720445,2711132106,2737022388,2748007727,2864092854,2985433050,2986076176,3002804432,3022826073,3022826074,3348082024,3555882704,3625947308,3630013637,3630013638,3635162175,3638748368,3640869465,3643680166,3644964714,3644964715,3653367027,3653367028,3654194864,3670484468,3721555439,3726520351,3735467033,3744302894,3744577751,3745461958,3767717753,3771428683,3772954551,3824351410,3825737076,3869436715,3985347111,3986415474,4017379939,4778093028,5187654418</SS><ALLELE>R</ALLELE><SNP_CLASS>snv</SNP_CLASS><CHRPOS>8:19956018</CHRPOS><CHRPOS_PREV_ASSM>8:19813529</CHRPOS_PREV_ASSM><TEXT/><SNP_ID_SORT>0000000268</SNP_ID_SORT><CLINICAL_SORT>1</CLINICAL_SORT><CITED_SORT/><CHRPOS_SORT>0019956018</CHRPOS_SORT><MERGED_SORT>0</MERGED_SORT></DocumentSummary>\\n</ExchangeSet>'\n"
     ]
    }
   ],
   "source": [
    "# sample codes adopted with modifications from http://biopython.org/DIST/docs/tutorial/Tutorial.html#htoc139.\n",
    "fetch_count = 0\n",
    "for start in range(0, total_count, retmax):\n",
    "    end = min(total_count, start+retmax)\n",
    "    print(\"Going to download record %i to %i\" % (start+1, end))\n",
    "    attempt = 0\n",
    "    #fetch_count += 1\n",
    "    while (attempt < 3):\n",
    "        attempt += 1\n",
    "        try:\n",
    "            fetch_handle = Entrez.efetch(db=\"snp\",\n",
    "                                         #rettype=\"uilist\", #available types [uilist | xml (use retmode=xml))\n",
    "                                         retmode=\"xml\",\n",
    "                                         retstart=start,\n",
    "                                         retmax=retmax,\n",
    "                                         webenv=webenv,\n",
    "                                         query_key=query_key )\n",
    "        except HTTPError as err:\n",
    "            if 500 <= err.code <= 599:\n",
    "                print(\"Received error from server %s\" % err)\n",
    "                print(\"Attempt %i of 3\" % attempt)\n",
    "                time.sleep(15)\n",
    "            else:\n",
    "                raise\n",
    "    if (fetch_handle):\n",
    "        #print(fetch_handle)            \n",
    "        data = fetch_handle.read()\n",
    "        print(data)\n",
    "        fetch_handle.close()\n",
    "\n"
   ]
  },
  {
   "cell_type": "code",
   "execution_count": 10,
   "metadata": {},
   "outputs": [
    {
     "name": "stdout",
     "output_type": "stream",
     "text": [
      "Item \t []\n",
      "Id \t 19923\n",
      "PdbAcc \t 1L5J\n",
      "PdbDescr \t Crystal Structure Of E. Coli Aconitase B\n",
      "EC \t 4.2.1.3\n",
      "Resolution \t 2.4\n",
      "ExpMethod \t X-Ray Diffraction\n",
      "PdbClass \t Lyase\n",
      "PdbDepositDate \t 2002/03/07 00:00\n",
      "MMDBEntryDate \t 2002/07/11 00:00\n",
      "OrganismList \t ['Escherichia coli']\n",
      "LigCode \t F3S|TRA\n",
      "LigCount \t 2\n",
      "ModProteinResCount \t 0\n",
      "ModDNAResCount \t 0\n",
      "ModRNAResCount \t 0\n",
      "ProteinChainCount \t \n",
      "DNAChainCount \t \n",
      "RNAChainCount \t \n",
      "\n",
      "Item \t []\n",
      "Id \t 19922\n",
      "PdbAcc \t 1L5A\n",
      "PdbDescr \t Crystal Structure Of Vibh, An Nrps Condensation Enzyme\n",
      "EC \t \n",
      "Resolution \t 2.55\n",
      "ExpMethod \t X-Ray Diffraction\n",
      "PdbClass \t Biosynthetic Protein\n",
      "PdbDepositDate \t 2002/03/06 00:00\n",
      "MMDBEntryDate \t 2002/07/11 00:00\n",
      "OrganismList \t ['Vibrio cholerae']\n",
      "LigCode \t \n",
      "LigCount \t 0\n",
      "ModProteinResCount \t 0\n",
      "ModDNAResCount \t 0\n",
      "ModRNAResCount \t 0\n",
      "ProteinChainCount \t \n",
      "DNAChainCount \t \n",
      "RNAChainCount \t \n",
      "\n"
     ]
    }
   ],
   "source": [
    "Entrez.email = \"dbsnp-user@nih.gov\" # provide your user email \n",
    "Entrez.api_key = None\n",
    "\n",
    "# esummary handle\n",
    "\n",
    "eShandle = Entrez.esummary(db=\"structure\", id=\"19923,19922\")\n",
    "\n",
    "record = Entrez.read(eShandle)\n",
    "for r in record:\n",
    "    for k in r.keys():\n",
    "        print(k, '\\t', r[k])\n",
    "    print('')\n"
   ]
  },
  {
   "cell_type": "code",
   "execution_count": 11,
   "metadata": {
    "scrolled": true
   },
   "outputs": [
    {
     "name": "stdout",
     "output_type": "stream",
     "text": [
      "ERROR \t []\n",
      "LinkSetDb \t [{'Link': [{'Id': '27832061'}, {'Id': '10818692'}, {'Id': '16610138'}, {'Id': '10075804'}, {'Id': '9743125'}, {'Id': '9697222'}, {'Id': '8879582'}, {'Id': '9081313'}, {'Id': '10644173'}, {'Id': '21618392'}, {'Id': '9492623'}, {'Id': '12567619'}, {'Id': '11014159'}, {'Id': '18551413'}, {'Id': '12017726'}, {'Id': '11837228'}, {'Id': '15459713'}, {'Id': '14505206'}, {'Id': '15054333'}, {'Id': '14681453'}, {'Id': '18551414'}, {'Id': '18769385'}, {'Id': '10185160'}, {'Id': '9846866'}, {'Id': '9210599'}, {'Id': '21871970'}, {'Id': '16539535'}, {'Id': '19194660'}, {'Id': '11398542'}, {'Id': '8634905'}, {'Id': '20470293'}, {'Id': '10550026'}, {'Id': '19384717'}, {'Id': '15067171'}, {'Id': '14681349'}, {'Id': '12717820'}, {'Id': '9847131'}, {'Id': '12721567'}, {'Id': '25905639'}, {'Id': '11503515'}, {'Id': '12594481'}, {'Id': '11280929'}, {'Id': '11125037'}, {'Id': '8374583'}, {'Id': '16351750'}, {'Id': '21311007'}, {'Id': '12700734'}, {'Id': '15085139'}, {'Id': '9104512'}, {'Id': '12478259'}, {'Id': '11769119'}, {'Id': '22139927'}, {'Id': '23470317'}, {'Id': '10700142'}, {'Id': '14681412'}, {'Id': '18793135'}, {'Id': '19304878'}, {'Id': '12728276'}, {'Id': '15701178'}, {'Id': '11119312'}, {'Id': '17695747'}, {'Id': '11104721'}, {'Id': '19432375'}, {'Id': '8634907'}, {'Id': '10461180'}, {'Id': '10668984'}, {'Id': '17467675'}, {'Id': '12440171'}, {'Id': '16340990'}, {'Id': '15457218'}, {'Id': '11301297'}, {'Id': '17301755'}, {'Id': '15085140'}, {'Id': '17441614'}, {'Id': '11977810'}, {'Id': '10991730'}, {'Id': '21633942'}, {'Id': '8634908'}, {'Id': '18432959'}, {'Id': '21975942'}, {'Id': '22012987'}, {'Id': '17483515'}, {'Id': '9847130'}, {'Id': '9784119'}, {'Id': '14630664'}, {'Id': '21085149'}, {'Id': '11557876'}, {'Id': '11465030'}, {'Id': '16204117'}, {'Id': '17051183'}, {'Id': '20373212'}, {'Id': '16943631'}, {'Id': '21508874'}, {'Id': '12788546'}, {'Id': '15383216'}, {'Id': '11465025'}, {'Id': '17361161'}, {'Id': '10864290'}, {'Id': '10431177'}, {'Id': '22406171'}, {'Id': '24564380'}, {'Id': '29494585'}, {'Id': '9916256'}, {'Id': '12140531'}, {'Id': '12058481'}, {'Id': '19060305'}, {'Id': '21328913'}, {'Id': '11233452'}, {'Id': '26492633'}, {'Id': '11466974'}, {'Id': '18416025'}, {'Id': '10498771'}, {'Id': '11465027'}, {'Id': '11125078'}, {'Id': '11465731'}, {'Id': '11041799'}, {'Id': '15156622'}, {'Id': '11125046'}, {'Id': '17124781'}, {'Id': '10972265'}, {'Id': '11880479'}, {'Id': '25127889'}, {'Id': '24078714'}, {'Id': '11780077'}, {'Id': '25712261'}, {'Id': '20730508'}, {'Id': '18273808'}, {'Id': '14616118'}, {'Id': '25411977'}, {'Id': '15973381'}, {'Id': '18428815'}, {'Id': '11041798'}, {'Id': '16513968'}, {'Id': '15153306'}, {'Id': '14534551'}, {'Id': '11041778'}, {'Id': '21390321'}, {'Id': '22260095'}, {'Id': '9841413'}, {'Id': '28089644'}, {'Id': '34166364'}, {'Id': '34043619'}, {'Id': '16696061'}], 'DbTo': 'pubmed', 'LinkName': 'pubmed_pubmed'}]\n",
      "LinkSetDbHistory \t []\n",
      "DbFrom \t pubmed\n",
      "IdList \t ['10818692', '27832061']\n",
      "\n"
     ]
    }
   ],
   "source": [
    "Entrez.email = \"dbsnp-user@nih.gov\" # provide your user email \n",
    "Entrez.api_key = None\n",
    "\n",
    "# elink handle\n",
    "pmid='10818692,27832061'\n",
    "eLhandle = Entrez.elink(dbfrom=\"pubmed\", id=pmid, linkname=\"pubmed_pubmed\")\n",
    "record = Entrez.read(eLhandle)\n",
    "for r in record:\n",
    "    for k in r.keys():\n",
    "        print(k, '\\t', r[k])\n",
    "    print()"
   ]
  },
  {
   "cell_type": "code",
   "execution_count": null,
   "metadata": {},
   "outputs": [],
   "source": []
  },
  {
   "cell_type": "code",
   "execution_count": null,
   "metadata": {},
   "outputs": [],
   "source": []
  }
 ],
 "metadata": {
  "kernelspec": {
   "display_name": "Python 3",
   "language": "python",
   "name": "python3"
  },
  "language_info": {
   "codemirror_mode": {
    "name": "ipython",
    "version": 3
   },
   "file_extension": ".py",
   "mimetype": "text/x-python",
   "name": "python",
   "nbconvert_exporter": "python",
   "pygments_lexer": "ipython3",
   "version": "3.8.6"
  }
 },
 "nbformat": 4,
 "nbformat_minor": 2
}
